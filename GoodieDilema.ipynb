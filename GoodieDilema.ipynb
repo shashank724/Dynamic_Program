{
 "cells": [
  {
   "cell_type": "code",
   "execution_count": 2,
   "metadata": {},
   "outputs": [],
   "source": [
    "f  = open(\"input.txt\",\"r\")\n",
    "x = int(f.readline().split(': ')[1])\n",
    "y = f.readline()\n",
    "y = f.readline()\n",
    "y = f.readline()\n",
    "\n",
    "lines = f.readlines()\n",
    "f.close()\n",
    "goodies = {}\n",
    "price_arr= []\n",
    "for line in lines:\n",
    "    val = line.split(': ')\n",
    "    goodies[val[0]]=int(val[1].split('\\n')[0])\n",
    "    price_arr.append(int(val[1].split('\\n')[0]))\n",
    "\n",
    "\n",
    "ans = {k: v for k, v in sorted(goodies.items(), key=lambda item: item[1])}\n",
    "\n",
    "output = open(\"output.txt\",\"w\")\n",
    "\n",
    "output.write(\"The goodies selected for distribution are: \\n\\n\")\n",
    "\n",
    "price_arr.sort()\n",
    "min_val = 100000000\n",
    "ind = 0 \n",
    "for i in range(len(price_arr)-x):\n",
    "    if (price_arr[i+x-1]-price_arr[i]) < min_val:\n",
    "        min_val = price_arr[i+x-1]-price_arr[i]\n",
    "        ind = i\n",
    "\n",
    "\n",
    "flag=0\n",
    "first=0\n",
    "for i in ans:\n",
    "    if ind<=first:\n",
    "        output.write(i + \": \" + str(ans[i]) + \"\\n\")\n",
    "        x-=1\n",
    "    \n",
    "    first+=1\n",
    "    if x==0:\n",
    "        break\n",
    "\n",
    "output.write(\"\\nAnd the difference between the chosen goodie with highest price and the lowest price is \"+ str(min_val))\n",
    "\n",
    "output.close()\n",
    "\n"
   ]
  },
  {
   "cell_type": "code",
   "execution_count": 3,
   "metadata": {},
   "outputs": [],
   "source": []
  },
  {
   "cell_type": "code",
   "execution_count": null,
   "metadata": {},
   "outputs": [],
   "source": []
  }
 ],
 "metadata": {
  "kernelspec": {
   "display_name": "Python 3",
   "language": "python",
   "name": "python3"
  },
  "language_info": {
   "codemirror_mode": {
    "name": "ipython",
    "version": 3
   },
   "file_extension": ".py",
   "mimetype": "text/x-python",
   "name": "python",
   "nbconvert_exporter": "python",
   "pygments_lexer": "ipython3",
   "version": "3.7.8"
  }
 },
 "nbformat": 4,
 "nbformat_minor": 4
}
